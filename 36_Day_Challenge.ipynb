{
  "nbformat": 4,
  "nbformat_minor": 0,
  "metadata": {
    "colab": {
      "name": "36 Day Challenge.ipynb",
      "provenance": [],
      "toc_visible": true,
      "authorship_tag": "ABX9TyO+VLQNeo9OC85zUAEAT3Bp",
      "include_colab_link": true
    },
    "kernelspec": {
      "name": "python3",
      "display_name": "Python 3"
    }
  },
  "cells": [
    {
      "cell_type": "markdown",
      "metadata": {
        "id": "view-in-github",
        "colab_type": "text"
      },
      "source": [
        "<a href=\"https://colab.research.google.com/github/cassyay/AI-programming-with-python/blob/master/36_Day_Challenge.ipynb\" target=\"_parent\"><img src=\"https://colab.research.google.com/assets/colab-badge.svg\" alt=\"Open In Colab\"/></a>"
      ]
    },
    {
      "cell_type": "markdown",
      "metadata": {
        "id": "zmV_YDYw6QKW",
        "colab_type": "text"
      },
      "source": [
        "## Problem 1: Character Input"
      ]
    },
    {
      "cell_type": "code",
      "metadata": {
        "id": "_Kilv8Hq6QWf",
        "colab_type": "code",
        "colab": {
          "base_uri": "https://localhost:8080/",
          "height": 547
        },
        "outputId": "ad974788-ae09-4fcd-d580-db2155d88ec1"
      },
      "source": [
        "name = input(\"Whats yer name: \")\n",
        "print(\"you are \" + name)"
      ],
      "execution_count": null,
      "outputs": [
        {
          "output_type": "error",
          "ename": "KeyboardInterrupt",
          "evalue": "ignored",
          "traceback": [
            "\u001b[0;31m---------------------------------------------------------------------------\u001b[0m",
            "\u001b[0;31mKeyboardInterrupt\u001b[0m                         Traceback (most recent call last)",
            "\u001b[0;32m/usr/local/lib/python3.6/dist-packages/ipykernel/kernelbase.py\u001b[0m in \u001b[0;36m_input_request\u001b[0;34m(self, prompt, ident, parent, password)\u001b[0m\n\u001b[1;32m    728\u001b[0m             \u001b[0;32mtry\u001b[0m\u001b[0;34m:\u001b[0m\u001b[0;34m\u001b[0m\u001b[0;34m\u001b[0m\u001b[0m\n\u001b[0;32m--> 729\u001b[0;31m                 \u001b[0mident\u001b[0m\u001b[0;34m,\u001b[0m \u001b[0mreply\u001b[0m \u001b[0;34m=\u001b[0m \u001b[0mself\u001b[0m\u001b[0;34m.\u001b[0m\u001b[0msession\u001b[0m\u001b[0;34m.\u001b[0m\u001b[0mrecv\u001b[0m\u001b[0;34m(\u001b[0m\u001b[0mself\u001b[0m\u001b[0;34m.\u001b[0m\u001b[0mstdin_socket\u001b[0m\u001b[0;34m,\u001b[0m \u001b[0;36m0\u001b[0m\u001b[0;34m)\u001b[0m\u001b[0;34m\u001b[0m\u001b[0;34m\u001b[0m\u001b[0m\n\u001b[0m\u001b[1;32m    730\u001b[0m             \u001b[0;32mexcept\u001b[0m \u001b[0mException\u001b[0m\u001b[0;34m:\u001b[0m\u001b[0;34m\u001b[0m\u001b[0;34m\u001b[0m\u001b[0m\n",
            "\u001b[0;32m/usr/local/lib/python3.6/dist-packages/jupyter_client/session.py\u001b[0m in \u001b[0;36mrecv\u001b[0;34m(self, socket, mode, content, copy)\u001b[0m\n\u001b[1;32m    802\u001b[0m         \u001b[0;32mtry\u001b[0m\u001b[0;34m:\u001b[0m\u001b[0;34m\u001b[0m\u001b[0;34m\u001b[0m\u001b[0m\n\u001b[0;32m--> 803\u001b[0;31m             \u001b[0mmsg_list\u001b[0m \u001b[0;34m=\u001b[0m \u001b[0msocket\u001b[0m\u001b[0;34m.\u001b[0m\u001b[0mrecv_multipart\u001b[0m\u001b[0;34m(\u001b[0m\u001b[0mmode\u001b[0m\u001b[0;34m,\u001b[0m \u001b[0mcopy\u001b[0m\u001b[0;34m=\u001b[0m\u001b[0mcopy\u001b[0m\u001b[0;34m)\u001b[0m\u001b[0;34m\u001b[0m\u001b[0;34m\u001b[0m\u001b[0m\n\u001b[0m\u001b[1;32m    804\u001b[0m         \u001b[0;32mexcept\u001b[0m \u001b[0mzmq\u001b[0m\u001b[0;34m.\u001b[0m\u001b[0mZMQError\u001b[0m \u001b[0;32mas\u001b[0m \u001b[0me\u001b[0m\u001b[0;34m:\u001b[0m\u001b[0;34m\u001b[0m\u001b[0;34m\u001b[0m\u001b[0m\n",
            "\u001b[0;32m/usr/local/lib/python3.6/dist-packages/zmq/sugar/socket.py\u001b[0m in \u001b[0;36mrecv_multipart\u001b[0;34m(self, flags, copy, track)\u001b[0m\n\u001b[1;32m    474\u001b[0m         \"\"\"\n\u001b[0;32m--> 475\u001b[0;31m         \u001b[0mparts\u001b[0m \u001b[0;34m=\u001b[0m \u001b[0;34m[\u001b[0m\u001b[0mself\u001b[0m\u001b[0;34m.\u001b[0m\u001b[0mrecv\u001b[0m\u001b[0;34m(\u001b[0m\u001b[0mflags\u001b[0m\u001b[0;34m,\u001b[0m \u001b[0mcopy\u001b[0m\u001b[0;34m=\u001b[0m\u001b[0mcopy\u001b[0m\u001b[0;34m,\u001b[0m \u001b[0mtrack\u001b[0m\u001b[0;34m=\u001b[0m\u001b[0mtrack\u001b[0m\u001b[0;34m)\u001b[0m\u001b[0;34m]\u001b[0m\u001b[0;34m\u001b[0m\u001b[0;34m\u001b[0m\u001b[0m\n\u001b[0m\u001b[1;32m    476\u001b[0m         \u001b[0;31m# have first part already, only loop while more to receive\u001b[0m\u001b[0;34m\u001b[0m\u001b[0;34m\u001b[0m\u001b[0;34m\u001b[0m\u001b[0m\n",
            "\u001b[0;32mzmq/backend/cython/socket.pyx\u001b[0m in \u001b[0;36mzmq.backend.cython.socket.Socket.recv\u001b[0;34m()\u001b[0m\n",
            "\u001b[0;32mzmq/backend/cython/socket.pyx\u001b[0m in \u001b[0;36mzmq.backend.cython.socket.Socket.recv\u001b[0;34m()\u001b[0m\n",
            "\u001b[0;32mzmq/backend/cython/socket.pyx\u001b[0m in \u001b[0;36mzmq.backend.cython.socket._recv_copy\u001b[0;34m()\u001b[0m\n",
            "\u001b[0;32m/usr/local/lib/python3.6/dist-packages/zmq/backend/cython/checkrc.pxd\u001b[0m in \u001b[0;36mzmq.backend.cython.checkrc._check_rc\u001b[0;34m()\u001b[0m\n",
            "\u001b[0;31mKeyboardInterrupt\u001b[0m: ",
            "\nDuring handling of the above exception, another exception occurred:\n",
            "\u001b[0;31mKeyboardInterrupt\u001b[0m                         Traceback (most recent call last)",
            "\u001b[0;32m<ipython-input-1-7ff9e7b5314c>\u001b[0m in \u001b[0;36m<module>\u001b[0;34m()\u001b[0m\n\u001b[0;32m----> 1\u001b[0;31m \u001b[0mname\u001b[0m \u001b[0;34m=\u001b[0m \u001b[0minput\u001b[0m\u001b[0;34m(\u001b[0m\u001b[0;34m\"Whats yer name: \"\u001b[0m\u001b[0;34m)\u001b[0m\u001b[0;34m\u001b[0m\u001b[0;34m\u001b[0m\u001b[0m\n\u001b[0m\u001b[1;32m      2\u001b[0m \u001b[0mprint\u001b[0m\u001b[0;34m(\u001b[0m\u001b[0;34m\"you are \"\u001b[0m \u001b[0;34m+\u001b[0m \u001b[0mname\u001b[0m\u001b[0;34m)\u001b[0m\u001b[0;34m\u001b[0m\u001b[0;34m\u001b[0m\u001b[0m\n",
            "\u001b[0;32m/usr/local/lib/python3.6/dist-packages/ipykernel/kernelbase.py\u001b[0m in \u001b[0;36mraw_input\u001b[0;34m(self, prompt)\u001b[0m\n\u001b[1;32m    702\u001b[0m             \u001b[0mself\u001b[0m\u001b[0;34m.\u001b[0m\u001b[0m_parent_ident\u001b[0m\u001b[0;34m,\u001b[0m\u001b[0;34m\u001b[0m\u001b[0;34m\u001b[0m\u001b[0m\n\u001b[1;32m    703\u001b[0m             \u001b[0mself\u001b[0m\u001b[0;34m.\u001b[0m\u001b[0m_parent_header\u001b[0m\u001b[0;34m,\u001b[0m\u001b[0;34m\u001b[0m\u001b[0;34m\u001b[0m\u001b[0m\n\u001b[0;32m--> 704\u001b[0;31m             \u001b[0mpassword\u001b[0m\u001b[0;34m=\u001b[0m\u001b[0;32mFalse\u001b[0m\u001b[0;34m,\u001b[0m\u001b[0;34m\u001b[0m\u001b[0;34m\u001b[0m\u001b[0m\n\u001b[0m\u001b[1;32m    705\u001b[0m         )\n\u001b[1;32m    706\u001b[0m \u001b[0;34m\u001b[0m\u001b[0m\n",
            "\u001b[0;32m/usr/local/lib/python3.6/dist-packages/ipykernel/kernelbase.py\u001b[0m in \u001b[0;36m_input_request\u001b[0;34m(self, prompt, ident, parent, password)\u001b[0m\n\u001b[1;32m    732\u001b[0m             \u001b[0;32mexcept\u001b[0m \u001b[0mKeyboardInterrupt\u001b[0m\u001b[0;34m:\u001b[0m\u001b[0;34m\u001b[0m\u001b[0;34m\u001b[0m\u001b[0m\n\u001b[1;32m    733\u001b[0m                 \u001b[0;31m# re-raise KeyboardInterrupt, to truncate traceback\u001b[0m\u001b[0;34m\u001b[0m\u001b[0;34m\u001b[0m\u001b[0;34m\u001b[0m\u001b[0m\n\u001b[0;32m--> 734\u001b[0;31m                 \u001b[0;32mraise\u001b[0m \u001b[0mKeyboardInterrupt\u001b[0m\u001b[0;34m\u001b[0m\u001b[0;34m\u001b[0m\u001b[0m\n\u001b[0m\u001b[1;32m    735\u001b[0m             \u001b[0;32melse\u001b[0m\u001b[0;34m:\u001b[0m\u001b[0;34m\u001b[0m\u001b[0;34m\u001b[0m\u001b[0m\n\u001b[1;32m    736\u001b[0m                 \u001b[0;32mbreak\u001b[0m\u001b[0;34m\u001b[0m\u001b[0;34m\u001b[0m\u001b[0m\n",
            "\u001b[0;31mKeyboardInterrupt\u001b[0m: "
          ]
        }
      ]
    },
    {
      "cell_type": "code",
      "metadata": {
        "id": "TwHuuLz_6pAE",
        "colab_type": "code",
        "colab": {
          "base_uri": "https://localhost:8080/",
          "height": 312
        },
        "outputId": "7f4f2068-a319-4bc6-ab96-93a335f5463b"
      },
      "source": [
        "import datetime\n",
        "now = datetime.datetime.now()\n",
        "\n",
        "age = input(\"Whats yer age: \")\n",
        "age = int(age)\n",
        "print(\"you will be 100 in {} years\".format(100 - age))\n",
        "\n",
        "date = now.year + (100 - age)\n",
        "\n",
        "print(\"Enjoy the year {} when you are 100\".format(date))\n",
        "\n",
        "message = (\"Enjoy the year {} when you are 100 \\n\".format(date))\n",
        "\n",
        "repeat_message = input(\"what's your favorite number: \")\n",
        "number = int(repeat_message)\n",
        "print(message * number)"
      ],
      "execution_count": null,
      "outputs": [
        {
          "output_type": "stream",
          "text": [
            "Whats yer age: 90\n",
            "you will be 100 in 10 years\n",
            "Enjoy the year 2030 when you are 100\n",
            "what's your favorite number: 12\n",
            "Enjoy the year 2030 when you are 100 \n",
            "Enjoy the year 2030 when you are 100 \n",
            "Enjoy the year 2030 when you are 100 \n",
            "Enjoy the year 2030 when you are 100 \n",
            "Enjoy the year 2030 when you are 100 \n",
            "Enjoy the year 2030 when you are 100 \n",
            "Enjoy the year 2030 when you are 100 \n",
            "Enjoy the year 2030 when you are 100 \n",
            "Enjoy the year 2030 when you are 100 \n",
            "Enjoy the year 2030 when you are 100 \n",
            "Enjoy the year 2030 when you are 100 \n",
            "Enjoy the year 2030 when you are 100 \n",
            "\n"
          ],
          "name": "stdout"
        }
      ]
    },
    {
      "cell_type": "markdown",
      "metadata": {
        "id": "oRlbZOG9RqQO",
        "colab_type": "text"
      },
      "source": [
        "## Problem 2: Odd or Even "
      ]
    },
    {
      "cell_type": "code",
      "metadata": {
        "id": "jeQ0Z9_G65DR",
        "colab_type": "code",
        "colab": {
          "base_uri": "https://localhost:8080/",
          "height": 104
        },
        "outputId": "832f2f3d-3816-49e7-82a9-1a4910390b78"
      },
      "source": [
        "number = int(input(\"give me a number: \"))\n",
        "\n",
        "if number % 4 == 0:\n",
        "  print(\"divisible by 4\")\n",
        "\n",
        "elif number % 2 == 0:\n",
        "  print(\"even\")\n",
        "\n",
        "else:\n",
        "  print(\"odd\")\n",
        "\n",
        "num = int(input(\"give me another number: \"))\n",
        "check = int(input(\"give me a smaller number: \"))\n",
        "\n",
        "if num % check == 0:\n",
        "  print(\"divisible\")\n",
        "else:\n",
        "  print('no')\n"
      ],
      "execution_count": null,
      "outputs": [
        {
          "output_type": "stream",
          "text": [
            "give me a number: 18\n",
            "even\n",
            "give me another number: 16\n",
            "give me a smaller number: 4\n",
            "divisible\n"
          ],
          "name": "stdout"
        }
      ]
    },
    {
      "cell_type": "markdown",
      "metadata": {
        "id": "raAIVvYS6WuV",
        "colab_type": "text"
      },
      "source": [
        "## Problem 3: List Less Than Then"
      ]
    },
    {
      "cell_type": "code",
      "metadata": {
        "id": "nVjKTW_iSw2L",
        "colab_type": "code",
        "colab": {
          "base_uri": "https://localhost:8080/",
          "height": 156
        },
        "outputId": "539b4eca-112d-4653-9416-53b8016a8ef8"
      },
      "source": [
        " array = [1, 1, 2, 3, 5, 8, 13, 21, 34, 55, 89]\n",
        "\n",
        "new_list = []\n",
        "\n",
        "for a in array:\n",
        "  if a < 5:\n",
        "    print(a)\n",
        "\n",
        "#Extra 1: make new list \n",
        "\n",
        "for a in array:\n",
        "  if a < 5:\n",
        "    new_list.append(a)\n",
        "  \n",
        "print(new_list)\n",
        "\n",
        "#Extra 2: Write in one line\n",
        "\n",
        "print( [a for a in array if a < 5])\n",
        "\n",
        "\n",
        "# Extra 3: input from user\n",
        "\n",
        "number = int(input(\"Give me a number: \"))\n",
        "\n",
        "print([a for a in array if a < number])"
      ],
      "execution_count": null,
      "outputs": [
        {
          "output_type": "stream",
          "text": [
            "1\n",
            "1\n",
            "2\n",
            "3\n",
            "[1, 1, 2, 3]\n",
            "[1, 1, 2, 3]\n",
            "Give me a number: 15\n",
            "[1, 1, 2, 3, 5, 8, 13]\n"
          ],
          "name": "stdout"
        }
      ]
    },
    {
      "cell_type": "markdown",
      "metadata": {
        "id": "bMH4o3ptul7q",
        "colab_type": "text"
      },
      "source": [
        "## Problem 4: Divisors"
      ]
    },
    {
      "cell_type": "code",
      "metadata": {
        "id": "exLKZQu26jjR",
        "colab_type": "code",
        "colab": {
          "base_uri": "https://localhost:8080/",
          "height": 52
        },
        "outputId": "632f588c-b9e0-427c-c7e0-b6b3491282bf"
      },
      "source": [
        "number = int(input(\"input a number: \"))\n",
        "\n",
        "nlist = [n for n in range(1, number + 1) if number % n == 0]\n",
        "\n",
        "print(nlist)"
      ],
      "execution_count": null,
      "outputs": [
        {
          "output_type": "stream",
          "text": [
            "input a number: 24\n",
            "[1, 2, 3, 4, 6, 8, 12, 24]\n"
          ],
          "name": "stdout"
        }
      ]
    },
    {
      "cell_type": "markdown",
      "metadata": {
        "id": "_v-CjK1cvD2n",
        "colab_type": "text"
      },
      "source": [
        "## Problem 5: List Overlap\n"
      ]
    },
    {
      "cell_type": "code",
      "metadata": {
        "id": "njTRuIZ8uPhY",
        "colab_type": "code",
        "colab": {
          "base_uri": "https://localhost:8080/",
          "height": 106
        },
        "outputId": "bd65c3ed-4837-433b-cd85-36e364085433"
      },
      "source": [
        "#randomly generate 2 lists\n",
        "\n",
        "import random\n",
        "\n",
        "list1 = random.sample(range(1, 50), 20)\n",
        "list2 = random.sample(range(1, 50), 20)\n",
        "\n",
        "print(list1, list2)\n",
        "\n",
        "\n",
        "#use intersection\n",
        "set_intersetion = set(list1).intersection(list2)\n",
        "print(set_intersetion)\n",
        "\n",
        "#use list comprehension (keeps duplicates)\n",
        "\n",
        "duplicates = [x for x in list1 if x in list2]\n",
        "print(duplicates)\n",
        "\n",
        "#use & logic\n",
        "\n",
        "logic = set(list1) & set(list2)\n",
        "print(logic)\n"
      ],
      "execution_count": null,
      "outputs": [
        {
          "output_type": "stream",
          "text": [
            "[24, 5, 49, 36, 29, 14, 37, 23, 35, 40, 18, 11, 19, 12, 39, 6, 22, 16, 13, 30] [42, 23, 24, 26, 19, 33, 28, 30, 12, 32, 2, 16, 3, 25, 31, 41, 1, 18, 22, 48]\n",
            "{12, 16, 18, 19, 22, 23, 24, 30}\n",
            "[24, 23, 18, 19, 12, 22, 16, 30]\n",
            "{12, 16, 18, 19, 22, 23, 24, 30}\n"
          ],
          "name": "stdout"
        }
      ]
    },
    {
      "cell_type": "markdown",
      "metadata": {
        "id": "0E_5AJLpzwRM",
        "colab_type": "text"
      },
      "source": [
        "## Problem 6: String Lists"
      ]
    },
    {
      "cell_type": "code",
      "metadata": {
        "id": "i7PuPNVWvRfn",
        "colab_type": "code",
        "colab": {
          "base_uri": "https://localhost:8080/",
          "height": 52
        },
        "outputId": "614d3b47-70a9-4f4d-f8df-e1cd1b2cc01f"
      },
      "source": [
        "word = input(\"give me a word, and ill check if it is palindome: \")\n",
        "\n",
        "clean_word = word.lower()\n",
        "\n",
        "if clean_word == clean_word[::-1]:\n",
        "  print(\"the word {} is a drome\".format(clean_word))\n",
        "\n",
        "else:\n",
        "  print(\"the word {} is not a drome, backwards it is {}\".format(clean_word, clean_word[::-1]))"
      ],
      "execution_count": null,
      "outputs": [
        {
          "output_type": "stream",
          "text": [
            "give me a word, and ill check if it is palindome: fs\n",
            "the word fs is not a drome, backwards it is sf\n"
          ],
          "name": "stdout"
        }
      ]
    },
    {
      "cell_type": "markdown",
      "metadata": {
        "id": "fthcg0RtEPSn",
        "colab_type": "text"
      },
      "source": [
        "## Problem 7: List Comprehensions"
      ]
    },
    {
      "cell_type": "code",
      "metadata": {
        "id": "WOFiNJRr0JvH",
        "colab_type": "code",
        "colab": {
          "base_uri": "https://localhost:8080/",
          "height": 34
        },
        "outputId": "9e55b241-b322-4086-db8c-819840759145"
      },
      "source": [
        "a = [1, 4, 9, 16, 25, 36, 49, 64, 81, 100]\n",
        "\n",
        "#make new list with all the even numbers in that list \n",
        "\n",
        "b = [x for x in a if x % 2 == 0]\n",
        "print(b)"
      ],
      "execution_count": null,
      "outputs": [
        {
          "output_type": "stream",
          "text": [
            "[4, 16, 36, 64, 100]\n"
          ],
          "name": "stdout"
        }
      ]
    },
    {
      "cell_type": "markdown",
      "metadata": {
        "id": "wB83nRDLEhv5",
        "colab_type": "text"
      },
      "source": [
        "## Problem 8: Rock Paper Scissors\n"
      ]
    },
    {
      "cell_type": "code",
      "metadata": {
        "id": "HsEYlrTHEcgV",
        "colab_type": "code",
        "colab": {
          "base_uri": "https://localhost:8080/",
          "height": 153
        },
        "outputId": "395b8f65-4ce0-4e9e-cdce-7c5f28c1d29f"
      },
      "source": [
        "#create function for game instructions \n",
        "\n",
        "def game():\n",
        "\n",
        "  #user names and moves \n",
        "\n",
        "  player1 = input('Who is the first player: ')\n",
        "  player2 = input('who is the second player: ')\n",
        "\n",
        "  move1 = input('{}, what is your move (enter rock, paper, or scissors): '.format(player1)).lower()\n",
        "  move2 = input('now {} enter your move: '.format(player2)).lower()\n",
        "\n",
        "  #find the winner \n",
        "\n",
        "  if move1 == move2:\n",
        "    print(\"tie!  try again...\")\n",
        "  elif (move1 == 'rock' and move2 == 'paper') or (move2 == 'rock' and move1 == 'scissors'):\n",
        "    print(\"the winner is {} !\".format(player2))\n",
        "  elif (move1 == 'rock' and move2 == 'scissors') or (move1 == 'scissors' and move2 == 'paper'):\n",
        "    print(\"the winner is {} !\".format(player1))\n",
        "  \n",
        "  #continue game \n",
        "\n",
        "  play_again = input('play again?: ')\n",
        "  if play_again == 'no':\n",
        "    print('k bye')\n",
        "    exit \n",
        "  elif play == 'yes':\n",
        "    game()\n",
        "\n",
        "play = input('ready to play?: ')\n",
        "\n",
        "if play == 'yes':\n",
        "  game()\n",
        "else:\n",
        "  print('ok nvm')\n",
        "  \n",
        "\n",
        "\n",
        "  \n",
        "\n",
        "\n",
        "\n",
        "  \n",
        "\n",
        "\n"
      ],
      "execution_count": null,
      "outputs": [
        {
          "output_type": "stream",
          "text": [
            "ready to play?: yes\n",
            "Who is the first player: me\n",
            "who is the second player: u\n",
            "me, what is your move (enter rock, paper, or scissors): rock\n",
            "now u enter your move: scissors\n",
            "the winner is me !\n",
            "play again?: no\n",
            "k bye\n"
          ],
          "name": "stdout"
        }
      ]
    },
    {
      "cell_type": "markdown",
      "metadata": {
        "id": "8KU3vijMvaM0",
        "colab_type": "text"
      },
      "source": [
        "## Problem 9: Guessing Game One "
      ]
    },
    {
      "cell_type": "code",
      "metadata": {
        "id": "g6evXMlNFOs1",
        "colab_type": "code",
        "colab": {
          "base_uri": "https://localhost:8080/",
          "height": 102
        },
        "outputId": "c6993139-1198-4b0c-d389-7176cec6e586"
      },
      "source": [
        "import random \n",
        "\n",
        "def guess_a_number():\n",
        "\n",
        "  #generate random number \n",
        "  number = random.randint(1, 9)\n",
        "\n",
        "  #input guess\n",
        "  guess = int(input('guess a number between 0 and 10: '))\n",
        "\n",
        "  #if guess is incorrect, continue guessing \n",
        "  while guess != number:\n",
        "    if guess > number:\n",
        "      guess = int(input('too high! try again: '))\n",
        "    \n",
        "    elif guess < number:\n",
        "      guess = int(input('too low! try again: '))\n",
        "  \n",
        "  #if guess is correct, restart game \n",
        "  if guess == number:\n",
        "    play = input('you win! play again?: ')\n",
        "    if play == 'yes':\n",
        "      guess_a_number()\n",
        "    else:\n",
        "      print('ok bye')\n",
        "      \n",
        "    \n",
        "guess_a_number()\n",
        "\n",
        "\n"
      ],
      "execution_count": null,
      "outputs": [
        {
          "output_type": "stream",
          "text": [
            "guess a number between 0 and 10: 4\n",
            "too high! try again: 2\n",
            "too low! try again: 3\n",
            "you win! play again?: no\n",
            "ok bye\n"
          ],
          "name": "stdout"
        }
      ]
    },
    {
      "cell_type": "markdown",
      "metadata": {
        "id": "rYkF1o1b1oW8",
        "colab_type": "text"
      },
      "source": [
        "## Problem 10: List Overlap Comprehensions "
      ]
    },
    {
      "cell_type": "code",
      "metadata": {
        "id": "3gGA3sK-wB_Y",
        "colab_type": "code",
        "colab": {
          "base_uri": "https://localhost:8080/",
          "height": 34
        },
        "outputId": "d7988d14-5491-42d1-cc2c-75ec1cbf52c5"
      },
      "source": [
        "a = [1, 1, 2, 3, 5, 8, 13, 21, 34, 55, 89]\n",
        "b = [1, 2, 3, 4, 5, 6, 7, 8, 9, 10, 11, 12, 13]\n",
        "\n",
        "compare = list(set([x for x in a if x in b]))\n",
        "print(compare)"
      ],
      "execution_count": null,
      "outputs": [
        {
          "output_type": "stream",
          "text": [
            "[1, 2, 3, 5, 8, 13]\n"
          ],
          "name": "stdout"
        }
      ]
    },
    {
      "cell_type": "markdown",
      "metadata": {
        "id": "WfgXfjFq6rit",
        "colab_type": "text"
      },
      "source": [
        "## Problem 11: Check Primality Functions "
      ]
    },
    {
      "cell_type": "code",
      "metadata": {
        "id": "vrwlgoPc2yHB",
        "colab_type": "code",
        "colab": {
          "base_uri": "https://localhost:8080/",
          "height": 68
        },
        "outputId": "7b8317d9-043f-4c79-86b4-aacb9efa67f7"
      },
      "source": [
        "number = random.randint(0, 100)\n",
        "print(number)\n",
        "\n",
        "### METHOD 1\n",
        "divisor = [x for x in range(2, number) if number % x == 0]\n",
        "\n",
        "#if list is empty then its a prime\n",
        "if not divisor:\n",
        "  print('its a prime, bro')\n",
        "\n",
        "#if not, just print the first divisible number \n",
        "else:\n",
        "  print('it is divisible by {}'.format(divisor[0]))\n",
        "\n",
        "### METHOD 2\n",
        "\n",
        "#go through each number \n",
        "for x in range(2, number):\n",
        "\n",
        "#if number is divisible \n",
        "  if number % x == 0:\n",
        "    print('its divisible by {}'.format(x))\n",
        "    break\n",
        "#if you go through all the numbers\n",
        "  elif (x + 1) == number:\n",
        "    print('its a prime') \n",
        "\n",
        "\n"
      ],
      "execution_count": null,
      "outputs": [
        {
          "output_type": "stream",
          "text": [
            "11\n",
            "its a prime, bro\n",
            "its a prime\n"
          ],
          "name": "stdout"
        }
      ]
    },
    {
      "cell_type": "markdown",
      "metadata": {
        "id": "PDInEzAk9gRs",
        "colab_type": "text"
      },
      "source": [
        "## Problem 12: List Ends"
      ]
    },
    {
      "cell_type": "code",
      "metadata": {
        "id": "_DLb-bKc7aR-",
        "colab_type": "code",
        "colab": {
          "base_uri": "https://localhost:8080/",
          "height": 68
        },
        "outputId": "af21edc6-e487-4d14-96e4-483732297da1"
      },
      "source": [
        "list1 = random.sample(range(1, 20), 10)\n",
        "print(list1)\n",
        "\n",
        "\n",
        "### METHOD 1\n",
        "\n",
        "def make_list(lists):\n",
        "\n",
        "  #create empty list\n",
        "  list2 = []\n",
        "\n",
        "  #append first and last items \n",
        "  list2.append(list1[0])\n",
        "  list2.append(list1[-1])\n",
        "\n",
        "  print(list2)\n",
        "\n",
        "make_list(list1)\n",
        "\n",
        "\n",
        "###METHOD 2\n",
        "\n",
        "def create_list(lists):\n",
        "  #create list and fill with first and last items\n",
        "  list3 = [lists[0], lists[-1]]\n",
        "  print(list3)\n",
        "\n",
        "create_list(list1)"
      ],
      "execution_count": null,
      "outputs": [
        {
          "output_type": "stream",
          "text": [
            "[6, 12, 16, 7, 11, 18, 14, 9, 3, 19]\n",
            "[6, 19]\n",
            "[6, 19]\n"
          ],
          "name": "stdout"
        }
      ]
    },
    {
      "cell_type": "markdown",
      "metadata": {
        "id": "jo25bkzK_Xaj",
        "colab_type": "text"
      },
      "source": [
        "## Problem 13: Fibonacci "
      ]
    },
    {
      "cell_type": "code",
      "metadata": {
        "id": "ciYsYLl2-EnU",
        "colab_type": "code",
        "colab": {
          "base_uri": "https://localhost:8080/",
          "height": 204
        },
        "outputId": "5b0b456c-b9e5-4154-c044-3285cbfc344c"
      },
      "source": [
        "#ask user how many fib numbers to generate \n",
        "number = int(input(\"how many input numbers would you like?: \"))\n",
        "\n",
        "def fib_sequence(number):\n",
        "  \n",
        "  a = 1\n",
        "  b = 1\n",
        "  for x in range(1, number+1):\n",
        "    \n",
        "    print(a, b)\n",
        "    c = b\n",
        "    b = a + b\n",
        "    a = c \n",
        "    \n",
        "fib_sequence(number)\n",
        "\n"
      ],
      "execution_count": null,
      "outputs": [
        {
          "output_type": "stream",
          "text": [
            "how many input numbers would you like?: 10\n",
            "1 1\n",
            "1 2\n",
            "2 3\n",
            "3 5\n",
            "5 8\n",
            "8 13\n",
            "13 21\n",
            "21 34\n",
            "34 55\n",
            "55 89\n"
          ],
          "name": "stdout"
        }
      ]
    },
    {
      "cell_type": "markdown",
      "metadata": {
        "id": "A4jYYXUehKgb",
        "colab_type": "text"
      },
      "source": [
        "## Problem 14: List Remove Duplicates"
      ]
    },
    {
      "cell_type": "code",
      "metadata": {
        "id": "qy8G_jQGaUBI",
        "colab_type": "code",
        "colab": {
          "base_uri": "https://localhost:8080/",
          "height": 51
        },
        "outputId": "d501e757-cffa-4e23-963c-da2b671d1b4b"
      },
      "source": [
        "duplicates_list = [1, 1, 2, 3, 5, 7,8, 2, 3, 2, 9, 10]\n",
        "\n",
        "\n",
        "#use set function\n",
        "def remove_duplicates(original_list):\n",
        "\n",
        "  set_list = set(duplicates_list)\n",
        "  print(set_list)\n",
        "  return set_list\n",
        "\n",
        "\n",
        "remove_duplicates(duplicates_list)\n",
        "\n",
        "#for loop with new list\n",
        "def for_loop_remove(original_list):\n",
        "  new_list = []\n",
        "\n",
        "  for x in original_list:\n",
        "    if x not in new_list:\n",
        "      new_list.append(x)\n",
        "  \n",
        "  return new_list\n",
        "\n",
        "for_loop_remove(duplicates_list)\n"
      ],
      "execution_count": null,
      "outputs": [
        {
          "output_type": "stream",
          "text": [
            "{1, 2, 3, 5, 7, 8, 9, 10}\n"
          ],
          "name": "stdout"
        },
        {
          "output_type": "execute_result",
          "data": {
            "text/plain": [
              "[1, 2, 3, 5, 7, 8, 9, 10]"
            ]
          },
          "metadata": {
            "tags": []
          },
          "execution_count": 9
        }
      ]
    },
    {
      "cell_type": "markdown",
      "metadata": {
        "id": "M2LhfOounA3N",
        "colab_type": "text"
      },
      "source": [
        "## Problem 15: Reverse Word Order "
      ]
    },
    {
      "cell_type": "code",
      "metadata": {
        "id": "kciTVec1jMZD",
        "colab_type": "code",
        "colab": {
          "base_uri": "https://localhost:8080/",
          "height": 52
        },
        "outputId": "ed7442e5-2d6e-4ae1-cf0d-39ec110d4a2c"
      },
      "source": [
        "sentence = input(\"input a sentence: \").split()\n",
        "\n",
        "backwards = ' '.join(sentence[::-1])\n",
        "print(backwards)"
      ],
      "execution_count": null,
      "outputs": [
        {
          "output_type": "stream",
          "text": [
            "input a sentence: is there a way\n",
            "way a there is\n"
          ],
          "name": "stdout"
        }
      ]
    },
    {
      "cell_type": "markdown",
      "metadata": {
        "id": "9Nl0j5JOomwb",
        "colab_type": "text"
      },
      "source": [
        "## Problem 16 spicy pepper: Password Generator"
      ]
    },
    {
      "cell_type": "code",
      "metadata": {
        "id": "kCcqIYisoSI6",
        "colab_type": "code",
        "colab": {
          "base_uri": "https://localhost:8080/",
          "height": 51
        },
        "outputId": "b6c1c80d-2c0d-4ca8-bec1-085ec50f5d87"
      },
      "source": [
        "import random\n",
        "\n",
        "#list of approved characters for pw\n",
        "a = '0123456789abcdefghijklmnopqrstuvwxyzABCDEFGHIJKLMNOPQRSTUVWXYZ!@#$%&*()?'\n",
        "\n",
        "#length of password\n",
        "length = int(input('input length of password: '))\n",
        "\n",
        "\n",
        "def generate_password(supported_characters, pw_length):\n",
        "\n",
        "  #create string based on approved characters, length\n",
        "  password = ''.join(random.sample(supported_characters, pw_length))\n",
        "\n",
        "  return password\n",
        "\n",
        "generate_password(a, length)\n",
        "\n",
        "\n",
        "\n",
        "\n"
      ],
      "execution_count": null,
      "outputs": [
        {
          "output_type": "stream",
          "text": [
            "input length of password: 10\n"
          ],
          "name": "stdout"
        },
        {
          "output_type": "execute_result",
          "data": {
            "text/plain": [
              "'W0Uk?IVM9q'"
            ]
          },
          "metadata": {
            "tags": []
          },
          "execution_count": 10
        }
      ]
    },
    {
      "cell_type": "markdown",
      "metadata": {
        "id": "9tHbdzZhDsla",
        "colab_type": "text"
      },
      "source": [
        "## Problem 17 More spicy pepper: Decode A Web Page"
      ]
    },
    {
      "cell_type": "code",
      "metadata": {
        "id": "Er8tetm5s3yt",
        "colab_type": "code",
        "colab": {}
      },
      "source": [
        "import requests\n",
        "from bs4 import BeautifulSoup\n",
        "\n",
        "#read the NYT webpage\n",
        "new_york_times = \"https://www.nytimes.com/\"\n",
        "r = requests.get(new_york_times)\n",
        "r_html = r.text\n",
        "\n",
        "#use BS to interpret website\n",
        "soup = BeautifulSoup(r_html)\n",
        "title = soup.title\n",
        "\n",
        "#read the title of the site\n",
        "name = soup.title.name\n",
        "\n",
        "title_string = soup.title.string\n",
        "\n",
        "#find all <a> html tags\n",
        "#a_html = soup.a\n",
        "#soup.find_all('a')\n",
        "\n",
        "#read all of the text\n",
        "text = soup.get_text()\n",
        "\n",
        " #find all <href> tags\n",
        "#for link in soup.find_all('a'):\n",
        "#  print(link.get('href'))\n",
        "\n",
        "###ACTUAL EXERCISE: PRINT OUT A LIST OF ALL THE ARTICLE TITLES\n",
        "\n",
        "story_titles = soup.find_all(class_=\"story-heading\")\n",
        "\n",
        "h2 = soup.h2\n",
        "\n",
        "for title in soup.find_all('h2'):\n",
        "  print(title.contents[0])\n",
        "  \n",
        "\n"
      ],
      "execution_count": null,
      "outputs": []
    },
    {
      "cell_type": "markdown",
      "metadata": {
        "id": "8JbcK7hBSYmt",
        "colab_type": "text"
      },
      "source": [
        "## Problem 18: Cows and Bulls"
      ]
    },
    {
      "cell_type": "code",
      "metadata": {
        "id": "JyTA2y3sHWuf",
        "colab_type": "code",
        "colab": {}
      },
      "source": [
        "import random\n",
        "from random import randint\n",
        "\n",
        "num = random.randrange(1, 10**4)\n",
        "number = '{:04}'.format(num)\n",
        "number = list(number)\n",
        "\n",
        "\n",
        "print(number)\n",
        "\n",
        "num_guesses = 0\n",
        "\n",
        "def play_cows_and_bulls(number, num_guesses):\n",
        "  guess = list(input(\"guess a four digit number: \"))\n",
        "  num_guesses += 1\n",
        "  cows = 0\n",
        "  bulls = 0\n",
        "  for i in range(len(number)):\n",
        "    print(number[i], guess[i])\n",
        "    if number[i] == guess[i]:\n",
        "      cows += 1\n",
        "    else:\n",
        "      bulls += 1\n",
        "    \n",
        "  print('you have {} cows and {} bulls'.format(cows, bulls))\n",
        "    \n",
        "  if cows < 4:\n",
        "    play_cows_and_bulls(number, num_guesses)\n",
        "  else:\n",
        "    print('u r winner yay, it took you {} guesses'.format(num_guesses))\n",
        "\n",
        "play_cows_and_bulls(number, num_guesses)\n",
        "\n"
      ],
      "execution_count": null,
      "outputs": []
    },
    {
      "cell_type": "markdown",
      "metadata": {
        "id": "gH3zcE41ZkgQ",
        "colab_type": "text"
      },
      "source": [
        "## Problem 19: Decode A Web Page Two"
      ]
    },
    {
      "cell_type": "code",
      "metadata": {
        "id": "7006t5JPTaDQ",
        "colab_type": "code",
        "colab": {}
      },
      "source": [
        "import requests\n",
        "from bs4 import BeautifulSoup\n",
        "\n",
        "#find webpage\n",
        "vanity_fair = \"https://www.vanityfair.com/style/society/2014/06/monica-lewinsky-humiliation-culture\"\n",
        "r = requests.get(vanity_fair)\n",
        "html = r.text\n",
        "\n",
        "soup = BeautifulSoup(html, 'html.parser')\n",
        "\n",
        "for c in soup.find_all(class_ = 'content-section'):\n",
        "  for w in c.find_all('p'):\n",
        "    print(w.text)\n"
      ],
      "execution_count": null,
      "outputs": []
    },
    {
      "cell_type": "markdown",
      "metadata": {
        "id": "bQG6eUnOe5Jb",
        "colab_type": "text"
      },
      "source": [
        "## Problem 20: Element Search"
      ]
    },
    {
      "cell_type": "code",
      "metadata": {
        "id": "lsidOA9He32W",
        "colab_type": "code",
        "colab": {
          "base_uri": "https://localhost:8080/",
          "height": 52
        },
        "outputId": "79673e0c-f5b4-4a9f-d602-29c1436904be"
      },
      "source": [
        "order_list = [1, 4, 5, 6, 7, 8, 10, 15, 20, 26]\n",
        "\n",
        "number_check = int(input('check this number is in the list: '))\n",
        "\n",
        "#assign list length\n",
        "top = len(order_list) \n",
        "\n",
        "\n",
        "def binary_search(the_list, number):\n",
        "\n",
        "  #if there is only one item in list, return whether item is number\n",
        "  if len(the_list) == 1:\n",
        "    return the_list[0] == number\n",
        "  \n",
        "  #find halfway point of list\n",
        "  half = len(the_list) // 2\n",
        "  \n",
        "  #if the halfway number is greater than the number, then cut off the bottom half of the list\n",
        "  if the_list[half] > number:\n",
        "    #recursion to reloop with half the list\n",
        "    return binary_search(the_list[:half], number)\n",
        "\n",
        "  #if the halfway number is less than the number, then cut off the top half \n",
        "  elif the_list[half] < number:\n",
        "    return binary_search(the_list[half + 1:], number)\n",
        "  \n",
        "  #if the number is equal to the list num, return True\n",
        "  else:\n",
        "    return True\n",
        "  \n",
        "\n",
        "\n",
        "\n",
        "binary_search(order_list, number_check)\n",
        "\n",
        "\n",
        "\n"
      ],
      "execution_count": null,
      "outputs": [
        {
          "output_type": "stream",
          "text": [
            "check this number is in the list: 3\n"
          ],
          "name": "stdout"
        },
        {
          "output_type": "execute_result",
          "data": {
            "text/plain": [
              "False"
            ]
          },
          "metadata": {
            "tags": []
          },
          "execution_count": 47
        }
      ]
    },
    {
      "cell_type": "markdown",
      "metadata": {
        "id": "UtP8YrR3VMd2",
        "colab_type": "text"
      },
      "source": [
        "## Problem 21: Write To A File"
      ]
    },
    {
      "cell_type": "code",
      "metadata": {
        "id": "M23JKlwmc_Jc",
        "colab_type": "code",
        "colab": {}
      },
      "source": [
        "### CODE FROM #17 \n",
        "import requests\n",
        "from bs4 import BeautifulSoup\n",
        "\n",
        "#read the NYT webpage\n",
        "new_york_times = \"https://www.nytimes.com/\"\n",
        "r = requests.get(new_york_times)\n",
        "r_html = r.text\n",
        "\n",
        "#use BS to interpret website\n",
        "soup = BeautifulSoup(r_html)\n",
        "title = soup.title\n",
        "\n",
        "#read the title of the site\n",
        "name = soup.title.name\n",
        "\n",
        "title_string = soup.title.string\n",
        "\n",
        "#find all <a> html tags\n",
        "#a_html = soup.a\n",
        "#soup.find_all('a')\n",
        "\n",
        "#read all of the text\n",
        "text = soup.get_text()\n",
        "\n",
        " #find all <href> tags\n",
        "#for link in soup.find_all('a'):\n",
        "#  print(link.get('href'))\n",
        "\n",
        "story_titles = soup.find_all(class_=\"story-heading\")\n",
        "\n",
        "h2 = soup.h2\n",
        "\n",
        "for title in soup.find_all('h2'):\n",
        "  print(title.contents[0])\n",
        "### END CODE FROM 17\n",
        "\n",
        "for title in soup.find_all('h2'):\n",
        "  title = str(title.contents[0])\n",
        "\n",
        "#create txt file as write only ('w')\n",
        "with open('nyt_titles.txt', 'w') as open_file:\n",
        "  open_file.write(title)\n",
        "\n"
      ],
      "execution_count": null,
      "outputs": []
    },
    {
      "cell_type": "markdown",
      "metadata": {
        "id": "NokW2UgHGje4",
        "colab_type": "text"
      },
      "source": [
        "## Problem 22: Read From File"
      ]
    },
    {
      "cell_type": "code",
      "metadata": {
        "id": "3HtT3KVfDLsJ",
        "colab_type": "code",
        "colab": {
          "base_uri": "https://localhost:8080/",
          "height": 34
        },
        "outputId": "c6cd5b0e-b152-4b9e-bfb3-a85a76623211"
      },
      "source": [
        "import os \n",
        "\n",
        "list_of_names = open('nameslist.txt')\n",
        "\n",
        "name_dictionary = {}\n",
        "\n",
        "for name in list_of_names:\n",
        "  name = name.strip('\\n')\n",
        "  if name not in name_dictionary:\n",
        "    name_dictionary[name] = 1\n",
        "  else:\n",
        "    name_dictionary[name] += 1\n",
        "\n",
        "\n",
        "print(name_dictionary)\n",
        "\n",
        "list_of_names.close()\n"
      ],
      "execution_count": null,
      "outputs": [
        {
          "output_type": "stream",
          "text": [
            "{'Darth': 31, 'Luke': 15, 'Lea': 54}\n"
          ],
          "name": "stdout"
        }
      ]
    },
    {
      "cell_type": "markdown",
      "metadata": {
        "id": "6swB7-A-Lw9M",
        "colab_type": "text"
      },
      "source": [
        "## Problem 23: File Overlap"
      ]
    },
    {
      "cell_type": "code",
      "metadata": {
        "id": "F744m5jdHLeO",
        "colab_type": "code",
        "colab": {}
      },
      "source": [
        "import os \n",
        "\n",
        "prime_numbers = open('primenumbers.txt')\n",
        "happy_numbers = open('happynumbers.txt')\n",
        "\n",
        "prime_list = []\n",
        "happy_list = []\n",
        "\n",
        "for primes in prime_numbers:\n",
        "  primes = primes.strip('\\n')\n",
        "  prime_list.append(primes)\n",
        "\n",
        "print(prime_list)\n",
        "\n",
        "for happy in happy_numbers:\n",
        "  happy = happy.strip('\\n')\n",
        "  happy_list.append(happy)\n",
        "print(happy_list)\n",
        "\n",
        "prime_numbers.close()\n",
        "happy_numbers.close()\n",
        "\n",
        "overlap = [x for x in prime_list if x in happy_list]\n",
        "print(overlap)"
      ],
      "execution_count": null,
      "outputs": []
    },
    {
      "cell_type": "markdown",
      "metadata": {
        "id": "y3eWooxyOVzt",
        "colab_type": "text"
      },
      "source": [
        "## Problem 24: Draw a Game Board"
      ]
    },
    {
      "cell_type": "code",
      "metadata": {
        "id": "oxmpB1xiMm-4",
        "colab_type": "code",
        "colab": {
          "base_uri": "https://localhost:8080/",
          "height": 153
        },
        "outputId": "65537532-cf0a-45fb-dd59-16f70b759141"
      },
      "source": [
        "board_size = int(input(\"select how big you want the board: \"))\n",
        "\n",
        "def make_board(board_size):\n",
        "  for line in range(board_size):\n",
        "    print(' ---' * (board_size))\n",
        "    print('|   ' * (board_size + 1))\n",
        "  print(' ---' * (board_size))\n",
        "\n",
        "\n",
        "make_board(board_size)"
      ],
      "execution_count": null,
      "outputs": [
        {
          "output_type": "stream",
          "text": [
            "select how big you want the board: 3\n",
            " --- --- ---\n",
            "|   |   |   |   \n",
            " --- --- ---\n",
            "|   |   |   |   \n",
            " --- --- ---\n",
            "|   |   |   |   \n",
            " --- --- ---\n"
          ],
          "name": "stdout"
        }
      ]
    },
    {
      "cell_type": "markdown",
      "metadata": {
        "id": "KJB1jJZkcnwb",
        "colab_type": "text"
      },
      "source": [
        "## Problem 25: Guessing Game Two"
      ]
    },
    {
      "cell_type": "code",
      "metadata": {
        "id": "RNpkXZOpaHWV",
        "colab_type": "code",
        "colab": {
          "base_uri": "https://localhost:8080/",
          "height": 204
        },
        "outputId": "fe371d62-dde5-4f0c-87ed-760f9d9cb637"
      },
      "source": [
        "#computer generates number between one and a hundred \n",
        "import random\n",
        "\n",
        "guessing = random.randint(1, 100)\n",
        "minimum = 1\n",
        "maximum = 100\n",
        "count = 1\n",
        "def guessing_game_two(guessing, minimum, maximum, count):\n",
        "  print(guessing)\n",
        "  response = input(\"is this correct, too high, or too low?: \")\n",
        "\n",
        "  if response == \"correct\":\n",
        "    print('smart computer, and it only took you {} tries'.format(count))\n",
        "\n",
        "  elif response == \"too low\":\n",
        "    count += 1\n",
        "    minimum = (guessing + 1)\n",
        "    guessing = random.randint(minimum, maximum)\n",
        "    guessing_game_two(guessing, minimum, maximum, count)\n",
        "\n",
        "  elif response == \"too high\":\n",
        "    count += 1\n",
        "    maximum = (guessing - 1)\n",
        "    guessing = random.randint(minimum, maximum)\n",
        "    guessing_game_two(guessing, minimum, maximum, count)\n",
        "\n",
        "guessing_game_two(guessing, minimum, maximum, count)"
      ],
      "execution_count": null,
      "outputs": [
        {
          "output_type": "stream",
          "text": [
            "44\n",
            "is this correct, too high, or too low?: too high\n",
            "37\n",
            "is this correct, too high, or too low?: too low\n",
            "41\n",
            "is this correct, too high, or too low?: too high\n",
            "39\n",
            "is this correct, too high, or too low?: too low\n",
            "40\n",
            "is this correct, too high, or too low?: correct\n",
            "smart computer, and it only took you 5 tries\n"
          ],
          "name": "stdout"
        }
      ]
    },
    {
      "cell_type": "markdown",
      "metadata": {
        "id": "0P2U27h5_4Ld",
        "colab_type": "text"
      },
      "source": [
        "## Problem 26: Check Tic Tac Toe"
      ]
    },
    {
      "cell_type": "code",
      "metadata": {
        "id": "COgly9Gv_hCN",
        "colab_type": "code",
        "colab": {}
      },
      "source": [
        "also_no_winner = [[2, 1, 1],\n",
        "\t[2, 2, 0],\n",
        "\t[1, 2, 2]]\n",
        "\n",
        "\n",
        "#create function to test if row is a winner\n",
        "def row_winner(tic_tac_toe):\n",
        "\n",
        "  #get lists from list of lists\n",
        "  lists = lists = [x for x in tic_tac_toe]\n",
        "\n",
        "  #check if rows have same number, and it is not 0\n",
        "  for i in lists:\n",
        "    set_row = set(i)\n",
        "    if len(set_row) == 1 and 0 not in set_row:\n",
        "      print('row winner is player {}!'.format(*set_row))\n",
        "\n",
        "def diag_winner(tic_tac_toe):\n",
        "  if (tic_tac_toe[1][1] == tic_tac_toe[0][0] == tic_tac_toe[2][2]) or (tic_tac_toe[1][1] == tic_tac_toe[0][2] == tic_tac_toe[2][0]):\n",
        "    print('diag winner is player {}'.format(tic_tac_toe[1][1]))\n",
        "\n",
        "def column_winner(tic_tac_toe):\n",
        "\n",
        "  lists = [x for x in tic_tac_toe]\n",
        "  columns = [list(j) for j in zip(*lists)]\n",
        "\n",
        "  for j in columns:\n",
        "    set_column = set(j)\n",
        "    if len(set_column) == 1 and 0 not in set_column:\n",
        "      print('column winner is player {}!'.format(*set_column))\n",
        "\n",
        "\n",
        "\n",
        "\t"
      ],
      "execution_count": null,
      "outputs": []
    },
    {
      "cell_type": "markdown",
      "metadata": {
        "id": "1VS_gTwWRii-",
        "colab_type": "text"
      },
      "source": [
        "## Problem 27: Tic Tac Toe Draw"
      ]
    },
    {
      "cell_type": "code",
      "metadata": {
        "id": "p5r-vDQe8Zv8",
        "colab_type": "code",
        "colab": {
          "base_uri": "https://localhost:8080/",
          "height": 68
        },
        "outputId": "0099511d-cfc1-4403-a6ca-cb03f2739db9"
      },
      "source": [
        "game = [ [ 0 for i in range(3)] for j in range(3)]\n",
        "print(game)\n",
        "\n",
        "player_X_move = input('enter the column and row you want: ').split()\n",
        "print(player1_move)\n",
        "\n",
        "player_O_move = input('enter the column and row you want: ').split()\n",
        "\n",
        "for i in game:\n",
        "  game.replace(0, 'X')\n",
        "\n"
      ],
      "execution_count": null,
      "outputs": [
        {
          "output_type": "stream",
          "text": [
            "[[0, 0, 0], [0, 0, 0], [0, 0, 0]]\n",
            "enter the column and row you want: 2, 2\n",
            "['2,', '2']\n"
          ],
          "name": "stdout"
        }
      ]
    },
    {
      "cell_type": "markdown",
      "metadata": {
        "id": "bjeIwZqWqq3n",
        "colab_type": "text"
      },
      "source": [
        "## Problem 28: Max of Three"
      ]
    },
    {
      "cell_type": "code",
      "metadata": {
        "id": "gBJijl-iqptb",
        "colab_type": "code",
        "colab": {
          "base_uri": "https://localhost:8080/",
          "height": 34
        },
        "outputId": "a4215370-b222-476d-d04a-79b7cbd42b90"
      },
      "source": [
        "def maximum_num(a, b, c):\n",
        "  if a > b and a > c:\n",
        "    return a\n",
        "  elif b > c and b > a:\n",
        "    return b\n",
        "  elif c > a and c > b:\n",
        "    return c \n",
        "\n"
      ],
      "execution_count": null,
      "outputs": [
        {
          "output_type": "execute_result",
          "data": {
            "text/plain": [
              "7"
            ]
          },
          "metadata": {
            "tags": []
          },
          "execution_count": 47
        }
      ]
    },
    {
      "cell_type": "markdown",
      "metadata": {
        "id": "FhFl9gAPrfw5",
        "colab_type": "text"
      },
      "source": [
        "## Problem 29: Tic Tac Toe Game"
      ]
    },
    {
      "cell_type": "code",
      "metadata": {
        "id": "c2h_n5epreMA",
        "colab_type": "code",
        "colab": {}
      },
      "source": [
        ""
      ],
      "execution_count": null,
      "outputs": []
    },
    {
      "cell_type": "markdown",
      "metadata": {
        "id": "sqDMsfBSrkIy",
        "colab_type": "text"
      },
      "source": [
        "## Problem 30: Pick Word"
      ]
    },
    {
      "cell_type": "code",
      "metadata": {
        "id": "QzAkd-T1oVZV",
        "colab_type": "code",
        "colab": {
          "base_uri": "https://localhost:8080/",
          "height": 34
        },
        "outputId": "bdca3bfe-9110-4668-e851-013840de0f4f"
      },
      "source": [
        "import random\n",
        "\n",
        "word_list = 'sowpods.txt'\n",
        "\n",
        "with open(word_list) as f:\n",
        "  words = list(f)\n",
        "\n",
        "guess_word = random.choice(words).strip()\n",
        "print(guess_word)\n"
      ],
      "execution_count": null,
      "outputs": [
        {
          "output_type": "stream",
          "text": [
            "SYNDICALISTS\n"
          ],
          "name": "stdout"
        }
      ]
    },
    {
      "cell_type": "markdown",
      "metadata": {
        "id": "1uwjf_rR0py9",
        "colab_type": "text"
      },
      "source": [
        "## Problem 31: Guess Letters, Problem 32: Hangman"
      ]
    },
    {
      "cell_type": "code",
      "metadata": {
        "id": "JuysMuI6xreO",
        "colab_type": "code",
        "colab": {
          "base_uri": "https://localhost:8080/",
          "height": 850
        },
        "outputId": "d7a17870-41c7-4aac-bc6f-07e1f4c1f9cb"
      },
      "source": [
        "hangman_word = [x for x in guess_word]\n",
        "template = ['_' for j in range(len(guess_word))]\n",
        "wrong_letters = []\n",
        "count = 0\n",
        "\n",
        "def hangman(word, template, count):\n",
        "\n",
        "\n",
        "  print(template)\n",
        "  print(wrong_letters)\n",
        "\n",
        "  if word == template:\n",
        "    print('you win!')\n",
        "    return\n",
        "  \n",
        "  if len(wrong_letters) == 6:\n",
        "    print('game over loser.  the word was {}.'.format(guess_word))\n",
        "    return\n",
        "\n",
        "\n",
        "  user_guess = input(\"guess a letter: \").upper()\n",
        "  print(user_guess)\n",
        "\n",
        "  if user_guess in hangman_word:\n",
        "    location = hangman_word.index(user_guess)\n",
        "\n",
        "    template[location] = user_guess\n",
        "    hangman(word, template, count)\n",
        "\n",
        "    \n",
        "  else:\n",
        "    count += 1\n",
        "    print('wrong! guess again. you have {} tries left'.format(6 - count))\n",
        "    wrong_letters.append(user_guess) \n",
        "    hangman(word, template, count)\n",
        "  \n",
        "\n",
        "  \n",
        " \n",
        "\n",
        "hangman(hangman_word, template, count)"
      ],
      "execution_count": null,
      "outputs": [
        {
          "output_type": "stream",
          "text": [
            "['_', '_', '_', '_', '_', '_', '_', '_', '_', '_', '_', '_']\n",
            "[]\n",
            "guess a letter: a\n",
            "A\n",
            "['_', '_', '_', '_', '_', '_', 'A', '_', '_', '_', '_', '_']\n",
            "[]\n",
            "guess a letter: b\n",
            "B\n",
            "wrong! guess again. you have 5 tries left\n",
            "['_', '_', '_', '_', '_', '_', 'A', '_', '_', '_', '_', '_']\n",
            "['B']\n",
            "guess a letter: c\n",
            "C\n",
            "['_', '_', '_', '_', '_', 'C', 'A', '_', '_', '_', '_', '_']\n",
            "['B']\n",
            "guess a letter: d\n",
            "guess a letter: e\n",
            "D\n",
            "['_', '_', '_', 'D', '_', 'C', 'A', '_', '_', '_', '_', '_']\n",
            "['B']\n",
            "E\n",
            "wrong! guess again. you have 4 tries left\n",
            "['_', '_', '_', 'D', '_', 'C', 'A', '_', '_', '_', '_', '_']\n",
            "['B', 'E']\n",
            "guess a letter: f\n",
            "F\n",
            "wrong! guess again. you have 3 tries left\n",
            "['_', '_', '_', 'D', '_', 'C', 'A', '_', '_', '_', '_', '_']\n",
            "['B', 'E', 'F']\n",
            "guess a letter: g\n",
            "G\n",
            "wrong! guess again. you have 2 tries left\n",
            "['_', '_', '_', 'D', '_', 'C', 'A', '_', '_', '_', '_', '_']\n",
            "['B', 'E', 'F', 'G']\n",
            "guess a letter: h\n",
            "H\n",
            "wrong! guess again. you have 1 tries left\n",
            "['_', '_', '_', 'D', '_', 'C', 'A', '_', '_', '_', '_', '_']\n",
            "['B', 'E', 'F', 'G', 'H']\n",
            "guess a letter: i\n",
            "I\n",
            "['_', '_', '_', 'D', 'I', 'C', 'A', '_', '_', '_', '_', '_']\n",
            "['B', 'E', 'F', 'G', 'H']\n",
            "guess a letter: j\n",
            "J\n",
            "wrong! guess again. you have 0 tries left\n",
            "['_', '_', '_', 'D', 'I', 'C', 'A', '_', '_', '_', '_', '_']\n",
            "['B', 'E', 'F', 'G', 'H', 'J']\n",
            "game over loser.  the word was SYNDICALISTS.\n"
          ],
          "name": "stdout"
        }
      ]
    },
    {
      "cell_type": "markdown",
      "metadata": {
        "id": "ygYtl0N48yWl",
        "colab_type": "text"
      },
      "source": [
        "## Exercise 33: Birthday Dictionaries"
      ]
    },
    {
      "cell_type": "code",
      "metadata": {
        "id": "KR0kXEq61GJf",
        "colab_type": "code",
        "colab": {
          "base_uri": "https://localhost:8080/",
          "height": 136
        },
        "outputId": "2af9850a-ec48-431e-abb6-b01a9f4acfd8"
      },
      "source": [
        "birthdays = {'TuPac' : '06/16/1982', 'North West' : '06/16/2005', 'Kanye West' : '06/08/1977'}\n",
        "\n",
        "print('Welcome to the birthday dictionary!  We know the birthdays of: \\n')\n",
        "\n",
        "for k, v in birthdays.items():\n",
        "  print(k)\n",
        "\n",
        "birthday_request = input('Whos birthday do you want to look up?: ')\n",
        "\n",
        "print('{}s birthday is on {}'.format(birthday_request, birthdays[birthday_request]))"
      ],
      "execution_count": null,
      "outputs": [
        {
          "output_type": "stream",
          "text": [
            "Welcome to the birthday dictionary!  We know the birthdays of: \n",
            "\n",
            "TuPac\n",
            "North West\n",
            "Kanye West\n",
            "Whos birthday do you want to look up?: Kanye West\n",
            "Kanye Wests birthday is on 06/08/1977\n"
          ],
          "name": "stdout"
        }
      ]
    },
    {
      "cell_type": "markdown",
      "metadata": {
        "id": "iKfyczMs_Ka5",
        "colab_type": "text"
      },
      "source": [
        "## Exercise 34: Birthday JSON\n",
        "\n",
        "https://www.quora.com/How-can-I-make-the-user-input-key-and-value-dictionary-in-Python-e-g-classe_list-input-name-score-wrong-syntax"
      ]
    },
    {
      "cell_type": "code",
      "metadata": {
        "id": "7SgdNW6C8m8f",
        "colab_type": "code",
        "colab": {
          "base_uri": "https://localhost:8080/",
          "height": 245
        },
        "outputId": "0c50d014-67f1-4733-807c-8c8b54acee57"
      },
      "source": [
        "import json\n",
        "\n",
        "bdays = '{\"cassye\" : \"06/16/1867\"}'\n",
        "\n",
        "\n",
        "birthdays = json.loads(bdays)\n",
        "\n",
        "def new_bday():\n",
        "  name = input('what is the persons name:' )\n",
        "  bday = input('now what is their bday (put in format 00/00/0000):')\n",
        "  birthdays[name] = bday\n",
        "\n",
        "  with open('bdays.json', 'w') as f:\n",
        "    json.dump(birthdays, f)\n",
        "  print('{}s bday is added!'.format(name))\n",
        "\n",
        "  more_names = input('add another? ')\n",
        "  if more_names == 'Yes':\n",
        "    new_bday()\n",
        "  else:\n",
        "    return \n",
        "\n",
        "def look_up_bday():\n",
        "  names = input('whos bday are you looking up?')\n",
        "  if birthdays[names]:\n",
        "    print('{}s birthday is on {}!'.format(names, birthdays[names]))\n",
        "  else:\n",
        "    print('dont know')\n",
        "\n",
        "new_bday()\n",
        "look_up_bday()"
      ],
      "execution_count": 2,
      "outputs": [
        {
          "output_type": "stream",
          "text": [
            "what is the persons name:Ms Buttersworth\n",
            "now what is their bday (put in format 00/00/0000):05/06/1899\n",
            "Ms Buttersworths bday is added!\n",
            "add another? Yes\n",
            "what is the persons name:Aunt Jemima\n",
            "now what is their bday (put in format 00/00/0000):03/23/1967\n",
            "Aunt Jemimas bday is added!\n",
            "add another? Yes\n",
            "what is the persons name:Mr Pickles\n",
            "now what is their bday (put in format 00/00/0000):03/23/1900\n",
            "Mr Pickless bday is added!\n",
            "add another? No\n",
            "whos bday are you looking up?Mr Pickles\n",
            "Mr Pickless birthday is on 03/23/1900!\n"
          ],
          "name": "stdout"
        }
      ]
    },
    {
      "cell_type": "markdown",
      "metadata": {
        "id": "qbtH6rbQmspB",
        "colab_type": "text"
      },
      "source": [
        "## Problem 35: Birthday Months"
      ]
    },
    {
      "cell_type": "code",
      "metadata": {
        "id": "eKAOnKh_mqmf",
        "colab_type": "code",
        "colab": {
          "base_uri": "https://localhost:8080/",
          "height": 50
        },
        "outputId": "cfa122b1-4275-499e-edc4-e434fc85d6ca"
      },
      "source": [
        "from collections import Counter \n",
        "\n",
        "birthday_conversion = {1 : 'jan', 2 : 'feb', 3 : 'mar', 4 : 'apr', 5 : 'may', 6 : 'jun', 7 : 'jul', 8 : 'aug', 9 : 'sept', 10 : 'oct', 11 : 'nov', 12 : 'dec' }\n",
        "\n",
        "months = []\n",
        "\n",
        "for k, v in birthdays.items():\n",
        "  b_day_month = int(v.split('/')[0])\n",
        "  months.append(birthday_conversion[b_day_month])  \n",
        "\n",
        "print(months)\n",
        "\n",
        "print(Counter(months))"
      ],
      "execution_count": 10,
      "outputs": [
        {
          "output_type": "stream",
          "text": [
            "['jun', 'may', 'mar', 'mar']\n",
            "Counter({'mar': 2, 'jun': 1, 'may': 1})\n"
          ],
          "name": "stdout"
        }
      ]
    },
    {
      "cell_type": "markdown",
      "metadata": {
        "id": "mV919IrF3uSh",
        "colab_type": "text"
      },
      "source": [
        "## Problem 36: Birthday Plots"
      ]
    },
    {
      "cell_type": "code",
      "metadata": {
        "id": "-ODsBZ1P0SbB",
        "colab_type": "code",
        "colab": {
          "base_uri": "https://localhost:8080/",
          "height": 320
        },
        "outputId": "ad265489-812c-4109-c6e4-c3c6f38c211e"
      },
      "source": [
        "import numpy as np\n",
        "import matplotlib.pyplot as plt \n",
        "\n",
        "labels, values = zip(*Counter(months).items())\n",
        "\n",
        "month_vals = Counter(months).values()\n",
        "highest = max(month_vals) + 1\n",
        "\n",
        "index = np.arange(len(labels))\n",
        "tickpos = [x for x in range(highest)]\n",
        "\n",
        "plt.figure(figsize=(8, 5))\n",
        "plt.bar(index, values, align='center')\n",
        "plt.xticks(index, labels)\n",
        "plt.yticks(tickpos, tickpos)\n",
        "plt.show()"
      ],
      "execution_count": 54,
      "outputs": [
        {
          "output_type": "display_data",
          "data": {
            "image/png": "[encoded data removed]",
            "text/plain": [
              "<Figure size 576x360 with 1 Axes>"
            ]
          },
          "metadata": {
            "tags": [],
            "needs_background": "light"
          }
        }
      ]
    },
    {
      "cell_type": "code",
      "metadata": {
        "id": "xWCE5JBpZzNO",
        "colab_type": "code",
        "colab": {}
      },
      "source": [
        ""
      ],
      "execution_count": null,
      "outputs": []
    }
  ]
}